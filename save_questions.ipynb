{
 "cells": [
  {
   "cell_type": "code",
   "execution_count": 1,
   "id": "8c25f42a-09e2-4b28-aefc-031779251366",
   "metadata": {},
   "outputs": [],
   "source": [
    "import json"
   ]
  },
  {
   "cell_type": "code",
   "execution_count": 2,
   "id": "11c07528-d714-42c3-bca8-20fbd22b8bc1",
   "metadata": {},
   "outputs": [],
   "source": [
    "with open('data/faqs.json') as f:\n",
    "    data = json.load(f)"
   ]
  },
  {
   "cell_type": "code",
   "execution_count": 3,
   "id": "64375d54-602d-4076-9c1b-a0e70686d968",
   "metadata": {},
   "outputs": [],
   "source": [
    "def write_file(question, answer, file_path):\n",
    "    text = f'Q: {question.strip()} A: {answer.strip()}'\n",
    "    with open(file_path, 'w') as f:\n",
    "        f.write(text)"
   ]
  },
  {
   "cell_type": "code",
   "execution_count": 4,
   "id": "fdd6fdf8-e971-4878-9304-f3275d779178",
   "metadata": {},
   "outputs": [],
   "source": [
    "for i, entry in enumerate(data):\n",
    "    write_file(entry['question'], entry['answer'], f'data/question_{i}.txt')"
   ]
  }
 ],
 "metadata": {
  "kernelspec": {
   "display_name": "nyu-chatbot",
   "language": "python",
   "name": "nyu-chatbot"
  },
  "language_info": {
   "codemirror_mode": {
    "name": "ipython",
    "version": 3
   },
   "file_extension": ".py",
   "mimetype": "text/x-python",
   "name": "python",
   "nbconvert_exporter": "python",
   "pygments_lexer": "ipython3",
   "version": "3.12.1"
  }
 },
 "nbformat": 4,
 "nbformat_minor": 5
}
