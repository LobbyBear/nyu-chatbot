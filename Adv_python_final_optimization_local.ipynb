{
 "cells": [
  {
   "cell_type": "code",
   "execution_count": 1,
   "id": "d04ff2b3",
   "metadata": {},
   "outputs": [],
   "source": [
    "import requests\n",
    "from bs4 import BeautifulSoup\n",
    "import json"
   ]
  },
  {
   "cell_type": "code",
   "execution_count": 2,
   "id": "3df991d9",
   "metadata": {},
   "outputs": [],
   "source": [
    "import time"
   ]
  },
  {
   "cell_type": "code",
   "execution_count": 3,
   "id": "7056226e",
   "metadata": {},
   "outputs": [
    {
     "name": "stdout",
     "output_type": "stream",
     "text": [
      "Elapsed Wall Time: 0.000000 seconds\n",
      "Elapsed CPU Time: 0.000000 seconds\n"
     ]
    }
   ],
   "source": [
    "# Wall time\n",
    "# Record the start time (wall time)\n",
    "start_time_wall = time.time()\n",
    "end_time_wall = time.time()\n",
    "elapsed_wall_time = end_time_wall - start_time_wall\n",
    "print(f\"Elapsed Wall Time: {elapsed_wall_time:.6f} seconds\")\n",
    "\n",
    "\n",
    "# CPU time\n",
    "# Record the start time (total execution time)\n",
    "start_time_cpu = time.process_time()\n",
    "end_time_cpu = time.process_time()\n",
    "elapsed_cpu_time = end_time_cpu - start_time_cpu\n",
    "print(f\"Elapsed CPU Time: {elapsed_cpu_time:.6f} seconds\")\n"
   ]
  },
  {
   "cell_type": "markdown",
   "id": "ef09e3f5",
   "metadata": {},
   "source": [
    "# 1. Scraping"
   ]
  },
  {
   "cell_type": "markdown",
   "id": "4ddaf3c3",
   "metadata": {},
   "source": [
    "## 1.1 starting code wall and CPU time"
   ]
  },
  {
   "cell_type": "code",
   "execution_count": 4,
   "id": "288db41e",
   "metadata": {},
   "outputs": [
    {
     "name": "stdout",
     "output_type": "stream",
     "text": [
      "Elapsed Wall Time: 0.8110 seconds\n",
      "Elapsed CPU Time: 0.0938 seconds\n"
     ]
    }
   ],
   "source": [
    "start_time_wall = time.time()\n",
    "start_time_cpu = time.process_time()\n",
    "\n",
    "urls = [\n",
    "    \"https://www.nyu.edu/students/student-information-and-resources/student-visa-and-immigration/newly-admitted/frequently-asked-questions.html\",\n",
    "    \"https://www.nyu.edu/students/student-information-and-resources/student-visa-and-immigration/newly-admitted/short-term-international-student-FAQ.html\",\n",
    "    \"https://www.nyu.edu/students/student-information-and-resources/student-visa-and-immigration/Emergencyinformation.html\",\n",
    "    \"https://www.nyu.edu/students/student-information-and-resources/student-visa-and-immigration/current-students/employment-and-tax/curricular-practical-training/cpt-frequently-asked-questions.html\",\n",
    "    \"https://www.nyu.edu/students/student-information-and-resources/student-visa-and-immigration/current-students/employment-and-tax/optional-practical-training/opt-frequently-asked-questions.html\",\n",
    "    \"https://www.nyu.edu/students/student-information-and-resources/student-visa-and-immigration/alumni/extend-your-opt/stem-opt/FAQs-on-the-new-regulations-for-STEM-OPT.html\",\n",
    "    \"https://www.nyu.edu/students/student-information-and-resources/student-visa-and-immigration/current-students/employment-and-tax/tax/tax-frequently-asked-questions.html\",\n",
    "    \"https://www.nyu.edu/students/student-information-and-resources/student-visa-and-immigration/current-students/visa-and-academic-changes/effect-of-arrest-on-immigration-status.html\"\n",
    "]\n",
    "\n",
    "faqs = []\n",
    "\n",
    "for url in urls:\n",
    "    response = requests.get(url)\n",
    "\n",
    "    soup = BeautifulSoup(response.text, 'html.parser')\n",
    "\n",
    "    blocks = soup.find_all('details', class_= 'expandable singleton')\n",
    "    for b in blocks:\n",
    "        question = b.find('summary', class_='expandable-item-title').text.strip()\n",
    "        answers_paragraphs = b.find_all('p')\n",
    "        answer_text = ''\n",
    "        for p in answers_paragraphs:\n",
    "            for a in p.find_all('a'):\n",
    "                if 'href' in a.attrs:\n",
    "                    link_text = a.text\n",
    "                    link_url = a['href']\n",
    "                    markdown_link = f\"[{link_text}](https://www.nyu.edu{link_url})\" if not link_url.startswith('http') else f\"[{link_text}]({link_url})\"\n",
    "                    a.replace_with(markdown_link)\n",
    "            text_with_markdown_links = ''.join([str(x) for x in p.contents]).replace('<br/>', '\\n').strip()\n",
    "            answer_text += text_with_markdown_links + ' '\n",
    "        \n",
    "        # print(f\"question: {question}\")\n",
    "        # print(f\"answer: {answer_text}\")\n",
    "        faqs.append({'question': question, 'answer': answer_text})\n",
    "\n",
    "faqs_json = json.dumps(faqs, indent=4)\n",
    "\n",
    "with open('faqs.json', 'w') as file:\n",
    "    file.write(faqs_json)\n",
    "    \n",
    "    \n",
    "end_time_wall = time.time()\n",
    "elapsed_wall_time = end_time_wall - start_time_wall\n",
    "print(f\"Elapsed Wall Time: {elapsed_wall_time:.4f} seconds\")\n",
    "\n",
    "end_time_cpu = time.process_time()\n",
    "elapsed_cpu_time = end_time_cpu - start_time_cpu\n",
    "print(f\"Elapsed CPU Time: {elapsed_cpu_time:.4f} seconds\")"
   ]
  },
  {
   "cell_type": "markdown",
   "id": "cc9410fa",
   "metadata": {},
   "source": [
    "## 1.2 starting code line_profiler"
   ]
  },
  {
   "cell_type": "code",
   "execution_count": 5,
   "id": "e004f73b",
   "metadata": {},
   "outputs": [],
   "source": [
    "%load_ext line_profiler"
   ]
  },
  {
   "cell_type": "code",
   "execution_count": 6,
   "id": "3392a506",
   "metadata": {
    "scrolled": true
   },
   "outputs": [
    {
     "name": "stdout",
     "output_type": "stream",
     "text": [
      "Timer unit: 1e-07 s\n",
      "\n",
      "Total time: 0.576184 s\n",
      "File: C:\\Users\\LN\\AppData\\Local\\Temp/ipykernel_14676/2093226472.py\n",
      "Function: process_url at line 17\n",
      "\n",
      "Line #      Hits         Time  Per Hit   % Time  Line Contents\n",
      "==============================================================\n",
      "    17                                           def process_url(url):\n",
      "    18         8    5635517.0 704439.6     97.8      response = requests.get(url)\n",
      "    19         8     109231.0  13653.9      1.9      soup = BeautifulSoup(response.text, 'html.parser')\n",
      "    20                                               \n",
      "    21         8      17022.0   2127.8      0.3      blocks = soup.find_all('details', class_='expandable singleton')\n",
      "    22         8         70.0      8.8      0.0      for b in blocks:\n",
      "    23                                                   question = b.find('summary', class_='expandable-item-title').text.strip()\n",
      "    24                                                   answers_paragraphs = b.find_all('p')\n",
      "    25                                                   answer_text = ''\n",
      "    26                                                   for p in answers_paragraphs:\n",
      "    27                                                       for a in p.find_all('a'):\n",
      "    28                                                           if 'href' in a.attrs:\n",
      "    29                                                               link_text = a.text\n",
      "    30                                                               link_url = a['href']\n",
      "    31                                                               markdown_link = f\"[{link_text}](https://www.nyu.edu{link_url})\" if not link_url.startswith('http') else f\"[{link_text}]({link_url})\"\n",
      "    32                                                               a.replace_with(markdown_link)\n",
      "    33                                                       text_with_markdown_links = ''.join([str(x) for x in p.contents]).replace('<br/>', '\\n').strip()\n",
      "    34                                                       answer_text += text_with_markdown_links + ' '\n",
      "    35                                                   \n",
      "    36                                                   faqs.append({'question': question, 'answer': answer_text})\n",
      "\n"
     ]
    }
   ],
   "source": [
    "from line_profiler import LineProfiler\n",
    "\n",
    "urls = [\n",
    "    \"https://www.nyu.edu/students/student-information-and-resources/student-visa-and-immigration/newly-admitted/frequently-asked-questions.html\",\n",
    "    \"https://www.nyu.edu/students/student-information-and-resources/student-visa-and-immigration/newly-admitted/short-term-international-student-FAQ.html\",\n",
    "    \"https://www.nyu.edu/students/student-information-and-resources/student-visa-and-immigration/Emergencyinformation.html\",\n",
    "    \"https://www.nyu.edu/students/student-information-and-resources/student-visa-and-immigration/current-students/employment-and-tax/curricular-practical-training/cpt-frequently-asked-questions.html\",\n",
    "    \"https://www.nyu.edu/students/student-information-and-resources/student-visa-and-immigration/current-students/employment-and-tax/optional-practical-training/opt-frequently-asked-questions.html\",\n",
    "    \"https://www.nyu.edu/students/student-information-and-resources/student-visa-and-immigration/alumni/extend-your-opt/stem-opt/FAQs-on-the-new-regulations-for-STEM-OPT.html\",\n",
    "    \"https://www.nyu.edu/students/student-information-and-resources/student-visa-and-immigration/current-students/employment-and-tax/tax/tax-frequently-asked-questions.html\",\n",
    "    \"https://www.nyu.edu/students/student-information-and-resources/student-visa-and-immigration/current-students/visa-and-academic-changes/effect-of-arrest-on-immigration-status.html\"\n",
    "]\n",
    "\n",
    "faqs = []\n",
    "\n",
    "\n",
    "def process_url(url):\n",
    "    response = requests.get(url)\n",
    "    soup = BeautifulSoup(response.text, 'html.parser')\n",
    "    \n",
    "    blocks = soup.find_all('details', class_='expandable singleton')\n",
    "    for b in blocks:\n",
    "        question = b.find('summary', class_='expandable-item-title').text.strip()\n",
    "        answers_paragraphs = b.find_all('p')\n",
    "        answer_text = ''\n",
    "        for p in answers_paragraphs:\n",
    "            for a in p.find_all('a'):\n",
    "                if 'href' in a.attrs:\n",
    "                    link_text = a.text\n",
    "                    link_url = a['href']\n",
    "                    markdown_link = f\"[{link_text}](https://www.nyu.edu{link_url})\" if not link_url.startswith('http') else f\"[{link_text}]({link_url})\"\n",
    "                    a.replace_with(markdown_link)\n",
    "            text_with_markdown_links = ''.join([str(x) for x in p.contents]).replace('<br/>', '\\n').strip()\n",
    "            answer_text += text_with_markdown_links + ' '\n",
    "        \n",
    "        faqs.append({'question': question, 'answer': answer_text})\n",
    "\n",
    "profiler = LineProfiler()\n",
    "profiler.add_function(process_url)\n",
    "\n",
    "# Profile the execution of each URL\n",
    "for url in urls:\n",
    "    profiler.runcall(process_url, url)\n",
    "\n",
    "profiler.print_stats()"
   ]
  },
  {
   "cell_type": "markdown",
   "id": "b7a85059",
   "metadata": {},
   "source": [
    "## 1.3 multi processing"
   ]
  },
  {
   "cell_type": "code",
   "execution_count": 7,
   "id": "14d8337d",
   "metadata": {},
   "outputs": [],
   "source": [
    "from multiprocessing import Pool, cpu_count"
   ]
  },
  {
   "cell_type": "code",
   "execution_count": 8,
   "id": "3d19334a",
   "metadata": {},
   "outputs": [
    {
     "data": {
      "text/plain": [
       "8"
      ]
     },
     "execution_count": 8,
     "metadata": {},
     "output_type": "execute_result"
    }
   ],
   "source": [
    "cpu_count()"
   ]
  },
  {
   "cell_type": "code",
   "execution_count": 9,
   "id": "792de3f3",
   "metadata": {},
   "outputs": [
    {
     "name": "stdout",
     "output_type": "stream",
     "text": [
      "Overwriting mp.py\n"
     ]
    }
   ],
   "source": [
    "%%writefile mp.py\n",
    "\n",
    "\n",
    "import requests\n",
    "from bs4 import BeautifulSoup\n",
    "import json\n",
    "\n",
    "\n",
    "def scrape_url(url):\n",
    "    response = requests.get(url)\n",
    "    soup = BeautifulSoup(response.text, 'html.parser')\n",
    "    \n",
    "    faq_items = []\n",
    "    blocks = soup.find_all('details', class_='expandable singleton')\n",
    "    for block in blocks:\n",
    "        question = block.find('summary', class_='expandable-item-title').text.strip()\n",
    "        answer_paragraphs = block.find_all('p')\n",
    "        answer_text = ''\n",
    "        for paragraph in answer_paragraphs:\n",
    "            for link in paragraph.find_all('a'):\n",
    "                if 'href' in link.attrs:\n",
    "                    link_text = link.text\n",
    "                    link_url = link['href']\n",
    "                    markdown_link = f\"[{link_text}](https://www.nyu.edu{link_url})\" if not link_url.startswith('http') else f\"[{link_text}]({link_url})\"\n",
    "                    link.replace_with(markdown_link)\n",
    "            text_with_markdown_links = ''.join(str(content) for content in paragraph.contents).replace('<br/>', '\\n').strip()\n",
    "            answer_text += text_with_markdown_links + ' '\n",
    "        faq_items.append({'question': question, 'answer': answer_text})\n",
    "    \n",
    "    return faq_items"
   ]
  },
  {
   "cell_type": "code",
   "execution_count": 10,
   "id": "e153ceed",
   "metadata": {},
   "outputs": [
    {
     "name": "stdout",
     "output_type": "stream",
     "text": [
      "Elapsed Wall Time: 1.008994 seconds\n",
      "Elapsed CPU Time: 0.015625 seconds\n"
     ]
    }
   ],
   "source": [
    "import mp\n",
    "\n",
    "start_time_wall = time.time()\n",
    "start_time_cpu = time.process_time()\n",
    "\n",
    "\n",
    "urls = [\n",
    "    \"https://www.nyu.edu/students/student-information-and-resources/student-visa-and-immigration/newly-admitted/frequently-asked-questions.html\",\n",
    "    \"https://www.nyu.edu/students/student-information-and-resources/student-visa-and-immigration/newly-admitted/short-term-international-student-FAQ.html\",\n",
    "    \"https://www.nyu.edu/students/student-information-and-resources/student-visa-and-immigration/Emergencyinformation.html\",\n",
    "    \"https://www.nyu.edu/students/student-information-and-resources/student-visa-and-immigration/current-students/employment-and-tax/curricular-practical-training/cpt-frequently-asked-questions.html\",\n",
    "    \"https://www.nyu.edu/students/student-information-and-resources/student-visa-and-immigration/current-students/employment-and-tax/optional-practical-training/opt-frequently-asked-questions.html\",\n",
    "    \"https://www.nyu.edu/students/student-information-and-resources/student-visa-and-immigration/alumni/extend-your-opt/stem-opt/FAQs-on-the-new-regulations-for-STEM-OPT.html\",\n",
    "    \"https://www.nyu.edu/students/student-information-and-resources/student-visa-and-immigration/current-students/employment-and-tax/tax/tax-frequently-asked-questions.html\",\n",
    "    \"https://www.nyu.edu/students/student-information-and-resources/student-visa-and-immigration/current-students/visa-and-academic-changes/effect-of-arrest-on-immigration-status.html\"\n",
    "]\n",
    "\n",
    "if __name__ == \"__main__\":\n",
    "    # Create a Pool of worker processes\n",
    "    #pool = Pool()\n",
    "    num_processes = cpu_count()  # Use all available CPU cores\n",
    "    pool = Pool(processes=num_processes) \n",
    "\n",
    "    # Use multiprocessing to scrape URLs in parallel\n",
    "    results = pool.map(mp.scrape_url, urls)\n",
    "\n",
    "    # Flatten the list of results\n",
    "    faqs = [item for sublist in results for item in sublist]\n",
    "\n",
    "    # Convert FAQs to JSON format\n",
    "    faqs_json = json.dumps(faqs, indent=4)\n",
    "\n",
    "    # Write FAQs to a JSON file\n",
    "    with open('faqs.json', 'w') as file:\n",
    "        file.write(faqs_json)\n",
    "\n",
    "    # Close the pool of worker processes\n",
    "    pool.close()\n",
    "    pool.join()\n",
    "\n",
    "    end_time_wall = time.time()\n",
    "    elapsed_wall_time = end_time_wall - start_time_wall\n",
    "    print(f\"Elapsed Wall Time: {elapsed_wall_time:.6f} seconds\")\n",
    "\n",
    "    end_time_cpu = time.process_time()\n",
    "    elapsed_cpu_time = end_time_cpu - start_time_cpu\n",
    "    print(f\"Elapsed CPU Time: {elapsed_cpu_time:.6f} seconds\")"
   ]
  },
  {
   "cell_type": "markdown",
   "id": "da927f8b",
   "metadata": {},
   "source": [
    "## 1.4 multi threading"
   ]
  },
  {
   "cell_type": "code",
   "execution_count": 11,
   "id": "24ebf2cb",
   "metadata": {},
   "outputs": [
    {
     "name": "stdout",
     "output_type": "stream",
     "text": [
      "Elapsed Wall Time: 0.147178 seconds\n",
      "Elapsed CPU Time: 0.140625 seconds\n"
     ]
    }
   ],
   "source": [
    "import threading\n",
    "\n",
    "start_time_wall = time.time()\n",
    "start_time_cpu = time.process_time()\n",
    "\n",
    "urls = [\n",
    "    \"https://www.nyu.edu/students/student-information-and-resources/student-visa-and-immigration/newly-admitted/frequently-asked-questions.html\",\n",
    "    \"https://www.nyu.edu/students/student-information-and-resources/student-visa-and-immigration/newly-admitted/short-term-international-student-FAQ.html\",\n",
    "    \"https://www.nyu.edu/students/student-information-and-resources/student-visa-and-immigration/Emergencyinformation.html\",\n",
    "    \"https://www.nyu.edu/students/student-information-and-resources/student-visa-and-immigration/current-students/employment-and-tax/curricular-practical-training/cpt-frequently-asked-questions.html\",\n",
    "    \"https://www.nyu.edu/students/student-information-and-resources/student-visa-and-immigration/current-students/employment-and-tax/optional-practical-training/opt-frequently-asked-questions.html\",\n",
    "    \"https://www.nyu.edu/students/student-information-and-resources/student-visa-and-immigration/alumni/extend-your-opt/stem-opt/FAQs-on-the-new-regulations-for-STEM-OPT.html\",\n",
    "    \"https://www.nyu.edu/students/student-information-and-resources/student-visa-and-immigration/current-students/employment-and-tax/tax/tax-frequently-asked-questions.html\",\n",
    "    \"https://www.nyu.edu/students/student-information-and-resources/student-visa-and-immigration/current-students/visa-and-academic-changes/effect-of-arrest-on-immigration-status.html\"\n",
    "]\n",
    "\n",
    "faqs = []\n",
    "\n",
    "def process_url(url):\n",
    "    response = requests.get(url)\n",
    "    soup = BeautifulSoup(response.text, 'html.parser')\n",
    "    \n",
    "    blocks = soup.find_all('details', class_='expandable singleton')\n",
    "    for b in blocks:\n",
    "        question = b.find('summary', class_='expandable-item-title').text.strip()\n",
    "        answers_paragraphs = b.find_all('p')\n",
    "        answer_text = ''\n",
    "        for p in answers_paragraphs:\n",
    "            for a in p.find_all('a'):\n",
    "                if 'href' in a.attrs:\n",
    "                    link_text = a.text\n",
    "                    link_url = a['href']\n",
    "                    markdown_link = f\"[{link_text}](https://www.nyu.edu{link_url})\" if not link_url.startswith('http') else f\"[{link_text}]({link_url})\"\n",
    "                    a.replace_with(markdown_link)\n",
    "            text_with_markdown_links = ''.join([str(x) for x in p.contents]).replace('<br/>', '\\n').strip()\n",
    "            answer_text += text_with_markdown_links + ' '\n",
    "        \n",
    "        # Append the FAQ to the list (thread-safe operation)\n",
    "        faqs.append({'question': question, 'answer': answer_text})\n",
    "\n",
    "# Create thread objects for each URL\n",
    "threads = []\n",
    "for url in urls:\n",
    "    thread = threading.Thread(target=process_url, args=(url,))\n",
    "    threads.append(thread)\n",
    "    thread.start()\n",
    "\n",
    "# Wait for all threads to complete\n",
    "for thread in threads:\n",
    "    thread.join()\n",
    "\n",
    "# Serialize FAQs to JSON\n",
    "faqs_json = json.dumps(faqs, indent=4)\n",
    "\n",
    "# Write FAQs to a file\n",
    "with open('faqs.json', 'w') as file:\n",
    "    file.write(faqs_json)\n",
    "\n",
    "# Calculate and print elapsed time\n",
    "end_time_wall = time.time()\n",
    "elapsed_wall_time = end_time_wall - start_time_wall\n",
    "print(f\"Elapsed Wall Time: {elapsed_wall_time:.6f} seconds\")\n",
    "\n",
    "end_time_cpu = time.process_time()\n",
    "elapsed_cpu_time = end_time_cpu - start_time_cpu\n",
    "print(f\"Elapsed CPU Time: {elapsed_cpu_time:.6f} seconds\")\n"
   ]
  },
  {
   "cell_type": "markdown",
   "id": "fa909253",
   "metadata": {},
   "source": [
    "# 2. statistics of word counting"
   ]
  },
  {
   "cell_type": "code",
   "execution_count": 12,
   "id": "38d18c8d",
   "metadata": {},
   "outputs": [],
   "source": [
    "# Load JSON data from faqs.json\n",
    "with open('faqs.json', 'r') as file:\n",
    "    faqs = json.load(file)"
   ]
  },
  {
   "cell_type": "code",
   "execution_count": 13,
   "id": "ecacdfed",
   "metadata": {},
   "outputs": [],
   "source": [
    "import re\n",
    "from line_profiler import LineProfiler"
   ]
  },
  {
   "cell_type": "markdown",
   "id": "afbd7867",
   "metadata": {},
   "source": [
    "## 2.1 starting code"
   ]
  },
  {
   "cell_type": "code",
   "execution_count": 14,
   "id": "abfea2d3",
   "metadata": {},
   "outputs": [
    {
     "name": "stdout",
     "output_type": "stream",
     "text": [
      "Elapsed Wall Time: 0.000000 seconds\n",
      "Elapsed CPU Time: 0.000000 seconds\n"
     ]
    }
   ],
   "source": [
    "def extract_sentences(text):\n",
    "    # Use regex to split text into sentences\n",
    "    sentences = re.split(r'[.!?]', text)\n",
    "    # Filter out empty sentences\n",
    "    sentences = [s.strip() for s in sentences if s.strip()]\n",
    "    return sentences\n",
    "def word_count(sentence):\n",
    "    # Split sentence into words and count them\n",
    "    words = sentence.split()\n",
    "    return len(words)\n",
    "\n",
    "start_time_wall = time.time()\n",
    "start_time_cpu = time.process_time()\n",
    "\n",
    "# Iterate over each FAQ item and extract sentences\n",
    "sentences = []\n",
    "\n",
    "for faq in faqs:\n",
    "    question_sentences = extract_sentences(faq['question'])\n",
    "    answer_sentences = extract_sentences(faq['answer'])\n",
    "    sentences.extend(question_sentences)\n",
    "    sentences.extend(answer_sentences)\n",
    "# Calculate word count for each sentence\n",
    "sentence_word_counts = [(sentence, word_count(sentence)) for sentence in sentences]\n",
    "\n",
    "end_time_wall = time.time()\n",
    "elapsed_wall_time = end_time_wall - start_time_wall\n",
    "print(f\"Elapsed Wall Time: {elapsed_wall_time:.6f} seconds\")\n",
    "end_time_cpu = time.process_time()\n",
    "elapsed_cpu_time = end_time_cpu - start_time_cpu\n",
    "print(f\"Elapsed CPU Time: {elapsed_cpu_time:.6f} seconds\")"
   ]
  },
  {
   "cell_type": "code",
   "execution_count": 15,
   "id": "6a5b283f",
   "metadata": {
    "scrolled": true
   },
   "outputs": [],
   "source": [
    "# Print or process the word counts\n",
    "for sentence, count in sentence_word_counts:\n",
    "    print(f\"Sentence: '{sentence}'\")\n",
    "    print(f\"Word Count: {count}\")\n",
    "    print(\"---\")"
   ]
  },
  {
   "cell_type": "markdown",
   "id": "81cf8fad",
   "metadata": {},
   "source": [
    "## 2.2 concurrent execution"
   ]
  },
  {
   "cell_type": "code",
   "execution_count": 16,
   "id": "5e0736bf",
   "metadata": {},
   "outputs": [
    {
     "data": {
      "text/plain": [
       "8"
      ]
     },
     "execution_count": 16,
     "metadata": {},
     "output_type": "execute_result"
    }
   ],
   "source": [
    "import os\n",
    "os.cpu_count() # number of worker threads"
   ]
  },
  {
   "cell_type": "code",
   "execution_count": 17,
   "id": "cf8d2fb9",
   "metadata": {
    "scrolled": false
   },
   "outputs": [
    {
     "name": "stdout",
     "output_type": "stream",
     "text": [
      "Elapsed Wall Time: 0.001007 seconds\n",
      "Elapsed CPU Time: 0.000000 seconds\n"
     ]
    }
   ],
   "source": [
    "import concurrent.futures\n",
    "\n",
    "start_time_wall = time.time()\n",
    "start_time_cpu = time.process_time()\n",
    "\n",
    "# Function to process FAQ item and extract sentences\n",
    "def process_faq(faq):\n",
    "    question_sentences = extract_sentences(faq['question'])\n",
    "    answer_sentences = extract_sentences(faq['answer'])\n",
    "    return question_sentences + answer_sentences\n",
    "\n",
    "# Use ThreadPoolExecutor for parallel processing\n",
    "with concurrent.futures.ThreadPoolExecutor() as executor:\n",
    "    # Submit tasks for each FAQ item and collect results\n",
    "    all_sentences = executor.map(process_faq, faqs)\n",
    "\n",
    "# Flatten the list of sentences\n",
    "sentences = [sentence for sublist in all_sentences for sentence in sublist]\n",
    "\n",
    "# Calculate word count for each sentence in parallel\n",
    "with concurrent.futures.ThreadPoolExecutor() as executor:\n",
    "    sentence_word_counts = list(executor.map(word_count, sentences))\n",
    "\n",
    "end_time_wall = time.time()\n",
    "elapsed_wall_time = end_time_wall - start_time_wall\n",
    "print(f\"Elapsed Wall Time: {elapsed_wall_time:.6f} seconds\")\n",
    "\n",
    "end_time_cpu = time.process_time()\n",
    "elapsed_cpu_time = end_time_cpu - start_time_cpu\n",
    "print(f\"Elapsed CPU Time: {elapsed_cpu_time:.6f} seconds\")"
   ]
  },
  {
   "cell_type": "markdown",
   "id": "d144bf25",
   "metadata": {},
   "source": [
    "## 2.3 JIT and Numba"
   ]
  },
  {
   "cell_type": "code",
   "execution_count": 18,
   "id": "9b43e30c",
   "metadata": {
    "scrolled": true
   },
   "outputs": [
    {
     "name": "stdout",
     "output_type": "stream",
     "text": [
      "Elapsed Wall Time: 0.008087 seconds\n",
      "Elapsed CPU Time: 0.015625 seconds\n"
     ]
    }
   ],
   "source": [
    "import numba as nb\n",
    "\n",
    "start_time_wall = time.time()\n",
    "start_time_cpu = time.process_time()\n",
    "\n",
    "@nb.jit\n",
    "def word_count(sentence):\n",
    "    # Split sentence into words and count them\n",
    "    words = sentence.split()\n",
    "    return len(words)\n",
    "\n",
    "# Iterate over each FAQ item and extract sentences\n",
    "sentences = []\n",
    "\n",
    "for faq in faqs:\n",
    "    question_sentences = extract_sentences(faq['question'])\n",
    "    answer_sentences = extract_sentences(faq['answer'])\n",
    "    sentences.extend(question_sentences)\n",
    "    sentences.extend(answer_sentences)\n",
    "\n",
    "# Calculate word count for each sentence\n",
    "sentence_word_counts = [(sentence, word_count(sentence)) for sentence in sentences]\n",
    "\n",
    "end_time_wall = time.time()\n",
    "elapsed_wall_time = end_time_wall - start_time_wall\n",
    "print(f\"Elapsed Wall Time: {elapsed_wall_time:.6f} seconds\")\n",
    "\n",
    "end_time_cpu = time.process_time()\n",
    "elapsed_cpu_time = end_time_cpu - start_time_cpu\n",
    "print(f\"Elapsed CPU Time: {elapsed_cpu_time:.6f} seconds\")"
   ]
  },
  {
   "cell_type": "markdown",
   "id": "9cc809fd",
   "metadata": {},
   "source": [
    "## 2.4 Plotting the distribution graph"
   ]
  },
  {
   "cell_type": "code",
   "execution_count": 19,
   "id": "aaa1470c",
   "metadata": {
    "scrolled": false
   },
   "outputs": [
    {
     "ename": "ModuleNotFoundError",
     "evalue": "No module named 'kiwisolver'",
     "output_type": "error",
     "traceback": [
      "\u001b[1;31m---------------------------------------------------------------------------\u001b[0m",
      "\u001b[1;31mModuleNotFoundError\u001b[0m                       Traceback (most recent call last)",
      "\u001b[1;32m~\\AppData\\Local\\Temp/ipykernel_14676/3840439125.py\u001b[0m in \u001b[0;36m<cell line: 1>\u001b[1;34m()\u001b[0m\n\u001b[1;32m----> 1\u001b[1;33m \u001b[1;32mimport\u001b[0m \u001b[0mmatplotlib\u001b[0m\u001b[1;33m.\u001b[0m\u001b[0mpyplot\u001b[0m \u001b[1;32mas\u001b[0m \u001b[0mplt\u001b[0m\u001b[1;33m\u001b[0m\u001b[1;33m\u001b[0m\u001b[0m\n\u001b[0m\u001b[0;32m      2\u001b[0m \u001b[0mplt\u001b[0m\u001b[1;33m.\u001b[0m\u001b[0mfigure\u001b[0m\u001b[1;33m(\u001b[0m\u001b[0mfigsize\u001b[0m\u001b[1;33m=\u001b[0m\u001b[1;33m(\u001b[0m\u001b[1;36m10\u001b[0m\u001b[1;33m,\u001b[0m \u001b[1;36m6\u001b[0m\u001b[1;33m)\u001b[0m\u001b[1;33m)\u001b[0m\u001b[1;33m\u001b[0m\u001b[1;33m\u001b[0m\u001b[0m\n\u001b[0;32m      3\u001b[0m \u001b[0mplt\u001b[0m\u001b[1;33m.\u001b[0m\u001b[0mhist\u001b[0m\u001b[1;33m(\u001b[0m\u001b[0msentence_word_counts\u001b[0m\u001b[1;33m,\u001b[0m \u001b[0mbins\u001b[0m\u001b[1;33m=\u001b[0m\u001b[1;36m20\u001b[0m\u001b[1;33m,\u001b[0m \u001b[0mcolor\u001b[0m\u001b[1;33m=\u001b[0m\u001b[1;34m'skyblue'\u001b[0m\u001b[1;33m,\u001b[0m \u001b[0medgecolor\u001b[0m\u001b[1;33m=\u001b[0m\u001b[1;34m'black'\u001b[0m\u001b[1;33m)\u001b[0m\u001b[1;33m\u001b[0m\u001b[1;33m\u001b[0m\u001b[0m\n\u001b[0;32m      4\u001b[0m \u001b[0mplt\u001b[0m\u001b[1;33m.\u001b[0m\u001b[0mtitle\u001b[0m\u001b[1;33m(\u001b[0m\u001b[1;34m'Distribution of Word Counts in Sentences'\u001b[0m\u001b[1;33m)\u001b[0m\u001b[1;33m\u001b[0m\u001b[1;33m\u001b[0m\u001b[0m\n\u001b[0;32m      5\u001b[0m \u001b[0mplt\u001b[0m\u001b[1;33m.\u001b[0m\u001b[0mxlabel\u001b[0m\u001b[1;33m(\u001b[0m\u001b[1;34m'Word Count'\u001b[0m\u001b[1;33m)\u001b[0m\u001b[1;33m\u001b[0m\u001b[1;33m\u001b[0m\u001b[0m\n",
      "\u001b[1;32me:\\conda\\envs\\19\\lib\\site-packages\\matplotlib\\__init__.py\u001b[0m in \u001b[0;36m<module>\u001b[1;34m\u001b[0m\n\u001b[0;32m    285\u001b[0m \u001b[1;33m\u001b[0m\u001b[0m\n\u001b[0;32m    286\u001b[0m \u001b[1;33m\u001b[0m\u001b[0m\n\u001b[1;32m--> 287\u001b[1;33m \u001b[0m_check_versions\u001b[0m\u001b[1;33m(\u001b[0m\u001b[1;33m)\u001b[0m\u001b[1;33m\u001b[0m\u001b[1;33m\u001b[0m\u001b[0m\n\u001b[0m\u001b[0;32m    288\u001b[0m \u001b[1;33m\u001b[0m\u001b[0m\n\u001b[0;32m    289\u001b[0m \u001b[1;33m\u001b[0m\u001b[0m\n",
      "\u001b[1;32me:\\conda\\envs\\19\\lib\\site-packages\\matplotlib\\__init__.py\u001b[0m in \u001b[0;36m_check_versions\u001b[1;34m()\u001b[0m\n\u001b[0;32m    279\u001b[0m             \u001b[1;33m(\u001b[0m\u001b[1;34m\"pyparsing\"\u001b[0m\u001b[1;33m,\u001b[0m \u001b[1;34m\"2.3.1\"\u001b[0m\u001b[1;33m)\u001b[0m\u001b[1;33m,\u001b[0m\u001b[1;33m\u001b[0m\u001b[1;33m\u001b[0m\u001b[0m\n\u001b[0;32m    280\u001b[0m     ]:\n\u001b[1;32m--> 281\u001b[1;33m         \u001b[0mmodule\u001b[0m \u001b[1;33m=\u001b[0m \u001b[0mimportlib\u001b[0m\u001b[1;33m.\u001b[0m\u001b[0mimport_module\u001b[0m\u001b[1;33m(\u001b[0m\u001b[0mmodname\u001b[0m\u001b[1;33m)\u001b[0m\u001b[1;33m\u001b[0m\u001b[1;33m\u001b[0m\u001b[0m\n\u001b[0m\u001b[0;32m    282\u001b[0m         \u001b[1;32mif\u001b[0m \u001b[0mparse_version\u001b[0m\u001b[1;33m(\u001b[0m\u001b[0mmodule\u001b[0m\u001b[1;33m.\u001b[0m\u001b[0m__version__\u001b[0m\u001b[1;33m)\u001b[0m \u001b[1;33m<\u001b[0m \u001b[0mparse_version\u001b[0m\u001b[1;33m(\u001b[0m\u001b[0mminver\u001b[0m\u001b[1;33m)\u001b[0m\u001b[1;33m:\u001b[0m\u001b[1;33m\u001b[0m\u001b[1;33m\u001b[0m\u001b[0m\n\u001b[0;32m    283\u001b[0m             raise ImportError(f\"Matplotlib requires {modname}>={minver}; \"\n",
      "\u001b[1;32me:\\conda\\envs\\19\\lib\\importlib\\__init__.py\u001b[0m in \u001b[0;36mimport_module\u001b[1;34m(name, package)\u001b[0m\n\u001b[0;32m    125\u001b[0m                 \u001b[1;32mbreak\u001b[0m\u001b[1;33m\u001b[0m\u001b[1;33m\u001b[0m\u001b[0m\n\u001b[0;32m    126\u001b[0m             \u001b[0mlevel\u001b[0m \u001b[1;33m+=\u001b[0m \u001b[1;36m1\u001b[0m\u001b[1;33m\u001b[0m\u001b[1;33m\u001b[0m\u001b[0m\n\u001b[1;32m--> 127\u001b[1;33m     \u001b[1;32mreturn\u001b[0m \u001b[0m_bootstrap\u001b[0m\u001b[1;33m.\u001b[0m\u001b[0m_gcd_import\u001b[0m\u001b[1;33m(\u001b[0m\u001b[0mname\u001b[0m\u001b[1;33m[\u001b[0m\u001b[0mlevel\u001b[0m\u001b[1;33m:\u001b[0m\u001b[1;33m]\u001b[0m\u001b[1;33m,\u001b[0m \u001b[0mpackage\u001b[0m\u001b[1;33m,\u001b[0m \u001b[0mlevel\u001b[0m\u001b[1;33m)\u001b[0m\u001b[1;33m\u001b[0m\u001b[1;33m\u001b[0m\u001b[0m\n\u001b[0m\u001b[0;32m    128\u001b[0m \u001b[1;33m\u001b[0m\u001b[0m\n\u001b[0;32m    129\u001b[0m \u001b[1;33m\u001b[0m\u001b[0m\n",
      "\u001b[1;31mModuleNotFoundError\u001b[0m: No module named 'kiwisolver'"
     ]
    }
   ],
   "source": [
    "import matplotlib.pyplot as plt\n",
    "plt.figure(figsize=(10, 6))\n",
    "plt.hist(sentence_word_counts, bins=20, color='skyblue', edgecolor='black')\n",
    "plt.title('Distribution of Word Counts in Sentences')\n",
    "plt.xlabel('Word Count')\n",
    "plt.ylabel('Frequency')\n",
    "plt.grid(True)\n",
    "plt.show()"
   ]
  }
 ],
 "metadata": {
  "kernelspec": {
   "display_name": "Python 3 (ipykernel)",
   "language": "python",
   "name": "python3"
  },
  "language_info": {
   "codemirror_mode": {
    "name": "ipython",
    "version": 3
   },
   "file_extension": ".py",
   "mimetype": "text/x-python",
   "name": "python",
   "nbconvert_exporter": "python",
   "pygments_lexer": "ipython3",
   "version": "3.9.0"
  }
 },
 "nbformat": 4,
 "nbformat_minor": 5
}
